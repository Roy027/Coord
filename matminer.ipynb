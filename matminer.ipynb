{
 "metadata": {
  "language_info": {
   "codemirror_mode": {
    "name": "ipython",
    "version": 3
   },
   "file_extension": ".py",
   "mimetype": "text/x-python",
   "name": "python",
   "nbconvert_exporter": "python",
   "pygments_lexer": "ipython3",
   "version": "3.7.7-final"
  },
  "orig_nbformat": 2,
  "kernelspec": {
   "name": "python3",
   "display_name": "Python 3",
   "language": "python"
  }
 },
 "nbformat": 4,
 "nbformat_minor": 2,
 "cells": [
  {
   "cell_type": "code",
   "execution_count": 2,
   "metadata": {},
   "outputs": [],
   "source": [
    "from pymatgen import Structure\n",
    "s1 =  Structure.from_file(\"./test/CsCl.cif\")"
   ]
  },
  {
   "cell_type": "code",
   "execution_count": 6,
   "metadata": {},
   "outputs": [
    {
     "output_type": "execute_result",
     "data": {
      "text/plain": [
       "Structure Summary\n",
       "Lattice\n",
       "    abc : 4.127 4.127 4.127\n",
       " angles : 90.0 90.0 90.0\n",
       " volume : 70.29159638299998\n",
       "      A : 4.127 0.0 2.5270586700405634e-16\n",
       "      B : 6.636722175215479e-16 4.127 2.5270586700405634e-16\n",
       "      C : 0.0 0.0 4.127\n",
       "PeriodicSite: Cs+ (0.0000, 0.0000, 0.0000) [0.0000, 0.0000, 0.0000]\n",
       "PeriodicSite: Cl- (2.0635, 2.0635, 2.0635) [0.5000, 0.5000, 0.5000]"
      ]
     },
     "metadata": {},
     "execution_count": 6
    }
   ],
   "source": [
    "s1 = s1.get_sorted_structure()\n",
    "s1.translate_sites(range(structure))"
   ]
  },
  {
   "cell_type": "code",
   "execution_count": 9,
   "metadata": {},
   "outputs": [
    {
     "output_type": "execute_result",
     "data": {
      "text/plain": [
       "Structure Summary\n",
       "Lattice\n",
       "    abc : 4.127 4.127 4.127\n",
       " angles : 90.0 90.0 90.0\n",
       " volume : 70.29159638299998\n",
       "      A : 4.127 0.0 2.5270586700405634e-16\n",
       "      B : 6.636722175215479e-16 4.127 2.5270586700405634e-16\n",
       "      C : 0.0 0.0 4.127\n",
       "PeriodicSite: Cs+ (0.0000, 0.0000, 0.0000) [0.0000, 0.0000, 0.0000]\n",
       "PeriodicSite: Cl- (2.0635, 2.0635, 2.0635) [0.5000, 0.5000, 0.5000]"
      ]
     },
     "metadata": {},
     "execution_count": 9
    }
   ],
   "source": [
    "s1.translate_sites(range(s1.num_sites),[1,1,1])"
   ]
  },
  {
   "cell_type": "code",
   "execution_count": 25,
   "metadata": {},
   "outputs": [],
   "source": [
    "from pymatgen.analysis.local_env import NearNeighbors, CrystalNN\n",
    "bonded_s1 = CrystalNN(NearNeighbors).get_bonded_structure(s1)"
   ]
  },
  {
   "cell_type": "code",
   "execution_count": 26,
   "metadata": {},
   "outputs": [
    {
     "output_type": "execute_result",
     "data": {
      "text/plain": [
       "[{'dimensionality': 3,\n",
       "  'orientation': None,\n",
       "  'site_ids': (0, 1),\n",
       "  'structure_graph': Structure Graph\n",
       "  Structure: \n",
       "  Structure Summary\n",
       "  Lattice\n",
       "      abc : 4.127 4.127 4.127\n",
       "   angles : 90.0 90.0 90.0\n",
       "   volume : 70.29159638299998\n",
       "        A : 4.127 0.0 2.5270586700405634e-16\n",
       "        B : 6.636722175215479e-16 4.127 2.5270586700405634e-16\n",
       "        C : 0.0 0.0 4.127\n",
       "  PeriodicSite: Cs+ (0.0000, 0.0000, 0.0000) [0.0000, 0.0000, 0.0000]\n",
       "  PeriodicSite: Cl- (2.0635, 2.0635, 2.0635) [0.5000, 0.5000, 0.5000]\n",
       "  Graph: bonds\n",
       "  from    to  to_image    \n",
       "  ----  ----  ------------\n",
       "     0     0  (0, 0, 1)   \n",
       "     0     0  (0, -1, 0)  \n",
       "     0     0  (-1, 0, 0)  \n",
       "     0     0  (0, 0, -1)  \n",
       "     0     0  (1, 0, 0)   \n",
       "     0     0  (0, 1, 0)   \n",
       "     0     1  (0, -1, -1) \n",
       "     0     1  (-1, 0, 0)  \n",
       "     0     1  (0, -1, 0)  \n",
       "     0     1  (-1, 0, -1) \n",
       "     0     1  (0, 0, -1)  \n",
       "     0     1  (-1, -1, 0) \n",
       "     0     1  (0, 0, 0)   \n",
       "     0     1  (-1, -1, -1)\n",
       "     1     1  (-1, 0, 0)  \n",
       "     1     1  (0, -1, 0)  \n",
       "     1     1  (0, 0, -1)  \n",
       "     1     1  (1, 0, 0)   \n",
       "     1     1  (0, 0, 1)   \n",
       "     1     1  (0, 1, 0)   }]"
      ]
     },
     "metadata": {},
     "execution_count": 26
    }
   ],
   "source": [
    "from pymatgen.analysis.dimensionality import get_structure_components\n",
    "components = get_structure_components(bonded_s1, inc_orientation=True, inc_site_ids=True, inc_molecule_graph=True)\n",
    "components"
   ]
  },
  {
   "cell_type": "code",
   "execution_count": 35,
   "metadata": {},
   "outputs": [
    {
     "output_type": "stream",
     "name": "stdout",
     "text": [
      "{'type': 'body-centered cubic', 'likeness': 0.8792244309754449}\n{'type': 'body-centered cubic', 'likeness': 0.9529008879536088}\n"
     ]
    }
   ],
   "source": [
    "\n",
    "from robocrys.condense.site import SiteAnalyzer\n",
    "site_analyzer = SiteAnalyzer(\n",
    "            bonded_s1, symprec= 0.01,\n",
    "            use_symmetry_equivalent_sites=False)\n",
    "\n",
    "for i in range(2):\n",
    "    site = site_analyzer.get_site_geometry(i)\n",
    "    print(site)\n",
    "\n",
    "#sites = site_analyzer.get_all_site_summaries()\n"
   ]
  },
  {
   "cell_type": "code",
   "execution_count": 37,
   "metadata": {},
   "outputs": [
    {
     "output_type": "execute_result",
     "data": {
      "text/plain": [
       "[{'wt CN_1': 0.0,\n",
       "  'sgl_bd CN_1': 0.0,\n",
       "  'wt CN_2': 0.0,\n",
       "  'L-shaped CN_2': 0.0,\n",
       "  'water-like CN_2': 0.0,\n",
       "  'bent 120 degrees CN_2': 0.0,\n",
       "  'bent 150 degrees CN_2': 0.0,\n",
       "  'linear CN_2': 0.0,\n",
       "  'wt CN_3': 0.0,\n",
       "  'trigonal planar CN_3': 0.0,\n",
       "  'trigonal non-coplanar CN_3': 0.0,\n",
       "  'T-shaped CN_3': 0.0,\n",
       "  'wt CN_4': 0.0,\n",
       "  'square co-planar CN_4': 0.0,\n",
       "  'tetrahedral CN_4': 0.0,\n",
       "  'rectangular see-saw-like CN_4': 0.0,\n",
       "  'see-saw-like CN_4': 0.0,\n",
       "  'trigonal pyramidal CN_4': 0.0,\n",
       "  'wt CN_5': 0.0,\n",
       "  'pentagonal planar CN_5': 0.0,\n",
       "  'square pyramidal CN_5': 0.0,\n",
       "  'trigonal bipyramidal CN_5': 0.0,\n",
       "  'wt CN_6': 0.0,\n",
       "  'hexagonal planar CN_6': 0.0,\n",
       "  'octahedral CN_6': 0.0,\n",
       "  'pentagonal pyramidal CN_6': 0.0,\n",
       "  'wt CN_7': 0.0,\n",
       "  'hexagonal pyramidal CN_7': 0.0,\n",
       "  'pentagonal bipyramidal CN_7': 0.0,\n",
       "  'wt CN_8': 0.8792244309754451,\n",
       "  'body-centered cubic CN_8': 0.8792244309754449,\n",
       "  'hexagonal bipyramidal CN_8': 0.3809790555790652,\n",
       "  'wt CN_9': 0.0,\n",
       "  'q2 CN_9': 0.0,\n",
       "  'q4 CN_9': 0.0,\n",
       "  'q6 CN_9': 0.0,\n",
       "  'wt CN_10': 0.0,\n",
       "  'q2 CN_10': 0.0,\n",
       "  'q4 CN_10': 0.0,\n",
       "  'q6 CN_10': 0.0,\n",
       "  'wt CN_11': 0.0,\n",
       "  'q2 CN_11': 0.0,\n",
       "  'q4 CN_11': 0.0,\n",
       "  'q6 CN_11': 0.0,\n",
       "  'wt CN_12': 0.0,\n",
       "  'cuboctahedral CN_12': 0.0,\n",
       "  'q2 CN_12': 0.0,\n",
       "  'q4 CN_12': 0.0,\n",
       "  'q6 CN_12': 0.0,\n",
       "  'wt CN_13': 0.0,\n",
       "  'wt CN_14': 0.12077556902455491,\n",
       "  'wt CN_15': 0.0,\n",
       "  'wt CN_16': 0.0,\n",
       "  'wt CN_17': 0.0,\n",
       "  'wt CN_18': 0.0,\n",
       "  'wt CN_19': 0.0,\n",
       "  'wt CN_20': 0.0,\n",
       "  'wt CN_21': 0.0,\n",
       "  'wt CN_22': 0.0,\n",
       "  'wt CN_23': 0.0,\n",
       "  'wt CN_24': 0.0},\n",
       " {'wt CN_1': 0.0,\n",
       "  'sgl_bd CN_1': 0.0,\n",
       "  'wt CN_2': 0.0,\n",
       "  'L-shaped CN_2': 0.0,\n",
       "  'water-like CN_2': 0.0,\n",
       "  'bent 120 degrees CN_2': 0.0,\n",
       "  'bent 150 degrees CN_2': 0.0,\n",
       "  'linear CN_2': 0.0,\n",
       "  'wt CN_3': 0.0,\n",
       "  'trigonal planar CN_3': 0.0,\n",
       "  'trigonal non-coplanar CN_3': 0.0,\n",
       "  'T-shaped CN_3': 0.0,\n",
       "  'wt CN_4': 0.0,\n",
       "  'square co-planar CN_4': 0.0,\n",
       "  'tetrahedral CN_4': 0.0,\n",
       "  'rectangular see-saw-like CN_4': 0.0,\n",
       "  'see-saw-like CN_4': 0.0,\n",
       "  'trigonal pyramidal CN_4': 0.0,\n",
       "  'wt CN_5': 0.0,\n",
       "  'pentagonal planar CN_5': 0.0,\n",
       "  'square pyramidal CN_5': 0.0,\n",
       "  'trigonal bipyramidal CN_5': 0.0,\n",
       "  'wt CN_6': 0.0,\n",
       "  'hexagonal planar CN_6': 0.0,\n",
       "  'octahedral CN_6': 0.0,\n",
       "  'pentagonal pyramidal CN_6': 0.0,\n",
       "  'wt CN_7': 0.0,\n",
       "  'hexagonal pyramidal CN_7': 0.0,\n",
       "  'pentagonal bipyramidal CN_7': 0.0,\n",
       "  'wt CN_8': 0.9529008879536088,\n",
       "  'body-centered cubic CN_8': 0.9529008879536088,\n",
       "  'hexagonal bipyramidal CN_8': 0.41290399534309286,\n",
       "  'wt CN_9': 0.0,\n",
       "  'q2 CN_9': 0.0,\n",
       "  'q4 CN_9': 0.0,\n",
       "  'q6 CN_9': 0.0,\n",
       "  'wt CN_10': 0.0,\n",
       "  'q2 CN_10': 0.0,\n",
       "  'q4 CN_10': 0.0,\n",
       "  'q6 CN_10': 0.0,\n",
       "  'wt CN_11': 0.0,\n",
       "  'q2 CN_11': 0.0,\n",
       "  'q4 CN_11': 0.0,\n",
       "  'q6 CN_11': 0.0,\n",
       "  'wt CN_12': 0.0,\n",
       "  'cuboctahedral CN_12': 0.0,\n",
       "  'q2 CN_12': 0.0,\n",
       "  'q4 CN_12': 0.0,\n",
       "  'q6 CN_12': 0.0,\n",
       "  'wt CN_13': 0.0,\n",
       "  'wt CN_14': 0.04709911204639115,\n",
       "  'wt CN_15': 0.0,\n",
       "  'wt CN_16': 0.0,\n",
       "  'wt CN_17': 0.0,\n",
       "  'wt CN_18': 0.0,\n",
       "  'wt CN_19': 0.0,\n",
       "  'wt CN_20': 0.0,\n",
       "  'wt CN_21': 0.0,\n",
       "  'wt CN_22': 0.0,\n",
       "  'wt CN_23': 0.0,\n",
       "  'wt CN_24': 0.0}]"
      ]
     },
     "metadata": {},
     "execution_count": 37
    }
   ],
   "source": [
    "from robocrys.condense.fingerprint import get_site_fingerprints\n",
    "site_fingerprints = get_site_fingerprints(bonded_s1.structure)\n",
    "site_fingerprints"
   ]
  },
  {
   "cell_type": "code",
   "execution_count": 41,
   "metadata": {},
   "outputs": [
    {
     "output_type": "stream",
     "name": "stdout",
     "text": [
      "[0, 0] wt CN_1\n[0, 0] sgl_bd CN_1\n[0, 0] wt CN_2\n[0, 0] L-shaped CN_2\n[0, 0] water-like CN_2\n[0, 0] bent 120 degrees CN_2\n[0, 0] bent 150 degrees CN_2\n[0, 0] linear CN_2\n[0, 0] wt CN_3\n[0, 0] trigonal planar CN_3\n[0, 0] trigonal non-coplanar CN_3\n[0, 0] T-shaped CN_3\n[0, 0] wt CN_4\n[0, 0] square co-planar CN_4\n[0, 0] tetrahedral CN_4\n[0, 0] rectangular see-saw-like CN_4\n[0, 0] see-saw-like CN_4\n[0, 0] trigonal pyramidal CN_4\n[0, 0] wt CN_5\n[0, 0] pentagonal planar CN_5\n[0, 0] square pyramidal CN_5\n[0, 0] trigonal bipyramidal CN_5\n[0, 0] wt CN_6\n[0, 0] hexagonal planar CN_6\n[0, 0] octahedral CN_6\n[0, 0] pentagonal pyramidal CN_6\n[0, 0] wt CN_7\n[0, 0] hexagonal pyramidal CN_7\n[0, 0] pentagonal bipyramidal CN_7\n[0.8792244309754451, 0.9529008879536088] wt CN_8\n[0.8792244309754449, 0.9529008879536088] body-centered cubic CN_8\n[0.3809790555790652, 0.41290399534309286] hexagonal bipyramidal CN_8\n[0, 0] wt CN_9\n[0, 0] q2 CN_9\n[0, 0] q4 CN_9\n[0, 0] q6 CN_9\n[0, 0] wt CN_10\n[0, 0] q2 CN_10\n[0, 0] q4 CN_10\n[0, 0] q6 CN_10\n[0, 0] wt CN_11\n[0, 0] q2 CN_11\n[0, 0] q4 CN_11\n[0, 0] q6 CN_11\n[0, 0] wt CN_12\n[0, 0] cuboctahedral CN_12\n[0, 0] q2 CN_12\n[0, 0] q4 CN_12\n[0, 0] q6 CN_12\n[0, 0] wt CN_13\n[0.12077556902455491, 0.04709911204639115] wt CN_14\n[0, 0] wt CN_15\n[0, 0] wt CN_16\n[0, 0] wt CN_17\n[0, 0] wt CN_18\n[0, 0] wt CN_19\n[0, 0] wt CN_20\n[0, 0] wt CN_21\n[0, 0] wt CN_22\n[0, 0] wt CN_23\n[0, 0] wt CN_24\n"
     ]
    }
   ],
   "source": [
    "from matminer.featurizers.structure import SiteStatsFingerprint\n",
    "raw_fingerprint = SiteStatsFingerprint.from_preset('CrystalNNFingerprint_ops', stats=None).featurize(bonded_s1.structure)\n",
    "for i in range(len(raw_fingerprint)):\n",
    "    print(raw_fingerprint[i], SiteStatsFingerprint.from_preset('CrystalNNFingerprint_ops', stats=None).feature_labels()[i])"
   ]
  },
  {
   "cell_type": "code",
   "execution_count": 69,
   "metadata": {},
   "outputs": [
    {
     "output_type": "execute_result",
     "data": {
      "text/plain": [
       "SiteStatsFingerprint(site_featurizer=CrystalNNFingerprint(op_types={1: ['wt',\n",
       "                                                                        'sgl_bd'],\n",
       "                                                                    2: ['wt',\n",
       "                                                                        'L-shaped',\n",
       "                                                                        'water-like',\n",
       "                                                                        'bent '\n",
       "                                                                        '120 '\n",
       "                                                                        'degrees',\n",
       "                                                                        'bent '\n",
       "                                                                        '150 '\n",
       "                                                                        'degrees',\n",
       "                                                                        'linear'],\n",
       "                                                                    3: ['wt',\n",
       "                                                                        'trigonal '\n",
       "                                                                        'planar',\n",
       "                                                                        'trigonal '\n",
       "                                                                        'non-coplanar',\n",
       "                                                                        'T-shaped'],\n",
       "                                                                    4: ['wt',\n",
       "                                                                        'square '\n",
       "                                                                        'co-planar',\n",
       "                                                                        'tetrahedral',\n",
       "                                                                        'rectangular '\n",
       "                                                                        'see-saw-like',\n",
       "                                                                        'see-saw-like',\n",
       "                                                                        'trigonal '\n",
       "                                                                        'pyramidal'],\n",
       "                                                                    5: ['wt',...\n",
       "                                                                        'hexagonal '\n",
       "                                                                        'pyramidal',\n",
       "                                                                        'pentagonal '\n",
       "                                                                        'bipyramidal'],\n",
       "                                                                    8: ['wt',\n",
       "                                                                        'body-centered '\n",
       "                                                                        'cubic',\n",
       "                                                                        'hexagonal '\n",
       "                                                                        'bipyramidal'],\n",
       "                                                                    9: ['wt',\n",
       "                                                                        'q2',\n",
       "                                                                        'q4',\n",
       "                                                                        'q6'],\n",
       "                                                                    10: ['wt',\n",
       "                                                                         'q2',\n",
       "                                                                         'q4',\n",
       "                                                                         'q6'],\n",
       "                                                                    11: ['wt',\n",
       "                                                                         'q2',\n",
       "                                                                         'q4',\n",
       "                                                                         'q6'],\n",
       "                                                                    12: ['wt',\n",
       "                                                                         'cuboctahedral',\n",
       "                                                                         'q2',\n",
       "                                                                         'q4',\n",
       "                                                                         'q6'],\n",
       "                                                                    13: ['wt'],\n",
       "                                                                    14: ['wt'],\n",
       "                                                                    15: ['wt'],\n",
       "                                                                    16: ['wt'],\n",
       "                                                                    17: ['wt'],\n",
       "                                                                    18: ['wt'],\n",
       "                                                                    19: ['wt'],\n",
       "                                                                    20: ['wt'],\n",
       "                                                                    21: ['wt'],\n",
       "                                                                    22: ['wt'],\n",
       "                                                                    23: ['wt'],\n",
       "                                                                    24: ['wt']}),\n",
       "                     stats=None)"
      ]
     },
     "metadata": {},
     "execution_count": 69
    }
   ],
   "source": [
    "import copy\n",
    "#ssf = SiteStatsFingerprint.from_preset('CrystalNNFingerprint_ops', stats=None)\n",
    "#ssf.featurize(bonded_s1.structure)\n",
    "ssf"
   ]
  },
  {
   "cell_type": "code",
   "execution_count": 75,
   "metadata": {},
   "outputs": [
    {
     "output_type": "execute_result",
     "data": {
      "text/plain": [
       "{1: ['wt',\n",
       "  <pymatgen.analysis.local_env.LocalStructOrderParams at 0x12d767a3548>],\n",
       " 2: ['wt',\n",
       "  <pymatgen.analysis.local_env.LocalStructOrderParams at 0x12d767a3b88>,\n",
       "  <pymatgen.analysis.local_env.LocalStructOrderParams at 0x12d767a3f48>,\n",
       "  <pymatgen.analysis.local_env.LocalStructOrderParams at 0x12d767a3a88>,\n",
       "  <pymatgen.analysis.local_env.LocalStructOrderParams at 0x12d767a3788>,\n",
       "  <pymatgen.analysis.local_env.LocalStructOrderParams at 0x12d767a3288>],\n",
       " 3: ['wt',\n",
       "  <pymatgen.analysis.local_env.LocalStructOrderParams at 0x12d767a3388>,\n",
       "  <pymatgen.analysis.local_env.LocalStructOrderParams at 0x12d767a3648>,\n",
       "  <pymatgen.analysis.local_env.LocalStructOrderParams at 0x12d767a3c08>],\n",
       " 4: ['wt',\n",
       "  <pymatgen.analysis.local_env.LocalStructOrderParams at 0x12d767a3588>,\n",
       "  <pymatgen.analysis.local_env.LocalStructOrderParams at 0x12d767a31c8>,\n",
       "  <pymatgen.analysis.local_env.LocalStructOrderParams at 0x12d767a3108>,\n",
       "  <pymatgen.analysis.local_env.LocalStructOrderParams at 0x12d767a3248>,\n",
       "  <pymatgen.analysis.local_env.LocalStructOrderParams at 0x12d767a37c8>],\n",
       " 5: ['wt',\n",
       "  <pymatgen.analysis.local_env.LocalStructOrderParams at 0x12d767a3848>,\n",
       "  <pymatgen.analysis.local_env.LocalStructOrderParams at 0x12d767a38c8>,\n",
       "  <pymatgen.analysis.local_env.LocalStructOrderParams at 0x12d767a3908>],\n",
       " 6: ['wt',\n",
       "  <pymatgen.analysis.local_env.LocalStructOrderParams at 0x12d767a3948>,\n",
       "  <pymatgen.analysis.local_env.LocalStructOrderParams at 0x12d767a3988>,\n",
       "  <pymatgen.analysis.local_env.LocalStructOrderParams at 0x12d767a3dc8>],\n",
       " 7: ['wt',\n",
       "  <pymatgen.analysis.local_env.LocalStructOrderParams at 0x12d767a3b48>,\n",
       "  <pymatgen.analysis.local_env.LocalStructOrderParams at 0x12d767a3fc8>],\n",
       " 8: ['wt',\n",
       "  <pymatgen.analysis.local_env.LocalStructOrderParams at 0x12d765806c8>,\n",
       "  <pymatgen.analysis.local_env.LocalStructOrderParams at 0x12d766f7e48>],\n",
       " 9: ['wt',\n",
       "  <pymatgen.analysis.local_env.LocalStructOrderParams at 0x12d766f9188>,\n",
       "  <pymatgen.analysis.local_env.LocalStructOrderParams at 0x12d7669ac48>,\n",
       "  <pymatgen.analysis.local_env.LocalStructOrderParams at 0x12d7669a348>],\n",
       " 10: ['wt',\n",
       "  <pymatgen.analysis.local_env.LocalStructOrderParams at 0x12d7669a4c8>,\n",
       "  <pymatgen.analysis.local_env.LocalStructOrderParams at 0x12d76673bc8>,\n",
       "  <pymatgen.analysis.local_env.LocalStructOrderParams at 0x12d766fc0c8>],\n",
       " 11: ['wt',\n",
       "  <pymatgen.analysis.local_env.LocalStructOrderParams at 0x12d766fcd08>,\n",
       "  <pymatgen.analysis.local_env.LocalStructOrderParams at 0x12d766f0908>,\n",
       "  <pymatgen.analysis.local_env.LocalStructOrderParams at 0x12d766baa08>],\n",
       " 12: ['wt',\n",
       "  <pymatgen.analysis.local_env.LocalStructOrderParams at 0x12d766ba3c8>,\n",
       "  <pymatgen.analysis.local_env.LocalStructOrderParams at 0x12d76637608>,\n",
       "  <pymatgen.analysis.local_env.LocalStructOrderParams at 0x12d7667af08>,\n",
       "  <pymatgen.analysis.local_env.LocalStructOrderParams at 0x12d7678e208>],\n",
       " 13: ['wt'],\n",
       " 14: ['wt'],\n",
       " 15: ['wt'],\n",
       " 16: ['wt'],\n",
       " 17: ['wt'],\n",
       " 18: ['wt'],\n",
       " 19: ['wt'],\n",
       " 20: ['wt'],\n",
       " 21: ['wt'],\n",
       " 22: ['wt'],\n",
       " 23: ['wt'],\n",
       " 24: ['wt']}"
      ]
     },
     "metadata": {},
     "execution_count": 75
    }
   ],
   "source": [
    "from matminer.featurizers.site import CrystalNNFingerprint\n",
    "for i, site in enumerate(bonded_s1.structure.sites):\n",
    "    opvalstmp = CrystalNNFingerprint.from_preset(\"ops\",cation_anion=False).featurize(bonded_s1.structure,i)\n",
    "    #print(opvalstmp)\n",
    "CrystalNNFingerprint.from_preset(\"ops\",cation_anion=False).ops"
   ]
  },
  {
   "cell_type": "code",
   "execution_count": 82,
   "metadata": {},
   "outputs": [
    {
     "output_type": "execute_result",
     "data": {
      "text/plain": [
       "0.9999999999999998"
      ]
     },
     "metadata": {},
     "execution_count": 82
    }
   ],
   "source": [
    "from pymatgen.analysis.local_env import LocalStructOrderParams, CrystalNN\n",
    "stru = bonded_s1.structure\n",
    "nndata = CrystalNN().get_nn_data(stru, 0)\n",
    "neigh_sites = [d[\"site\"] for d in nndata.cn_nninfo[8]]\n",
    "op = LocalStructOrderParams(['bcc'],parameters=[None])\n",
    "opval = op.get_order_parameters(\n",
    "                            [stru[0]] + neigh_sites, 0,\n",
    "                            indices_neighs=[i for i in\n",
    "                                            range(1, len(neigh_sites) + 1)])[0]\n",
    "opval"
   ]
  },
  {
   "cell_type": "code",
   "execution_count": 83,
   "metadata": {},
   "outputs": [
    {
     "output_type": "execute_result",
     "data": {
      "text/plain": [
       "[{'min_SPP': 2.5261129449194057, 'IGW_SPP': 15, 'w_SPP': 6}]"
      ]
     },
     "metadata": {},
     "execution_count": 83
    }
   ],
   "source": [
    "op._params"
   ]
  }
 ]
}