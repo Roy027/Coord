{
 "metadata": {
  "language_info": {
   "codemirror_mode": {
    "name": "ipython",
    "version": 3
   },
   "file_extension": ".py",
   "mimetype": "text/x-python",
   "name": "python",
   "nbconvert_exporter": "python",
   "pygments_lexer": "ipython3",
   "version": "3.7.7"
  },
  "orig_nbformat": 2,
  "kernelspec": {
   "name": "python3",
   "display_name": "Python 3.7.7 64-bit ('ProgramData': virtualenv)",
   "metadata": {
    "interpreter": {
     "hash": "72f09891e61cbd39b4bc4ed275c3f2f678107ed95693052ff55d65486844129c"
    }
   }
  }
 },
 "nbformat": 4,
 "nbformat_minor": 2,
 "cells": [
  {
   "cell_type": "code",
   "execution_count": 1,
   "metadata": {},
   "outputs": [],
   "source": [
    "import subprocess\n",
    "import os\n",
    "import glob\n",
    "cwd = os.getcwd()\n",
    "cwd_exe =os.path.join(cwd,'softBV0405.exe')\n",
    "all_files = glob.glob(os.path.join(cwd[:-4],'test/Li_database_CN4_occ1/*.cif'))"
   ]
  },
  {
   "cell_type": "code",
   "execution_count": 94,
   "metadata": {},
   "outputs": [
    {
     "output_type": "error",
     "ename": "KeyboardInterrupt",
     "evalue": "",
     "traceback": [
      "\u001b[1;31m---------------------------------------------------------------------------\u001b[0m",
      "\u001b[1;31mKeyboardInterrupt\u001b[0m                         Traceback (most recent call last)",
      "\u001b[1;32m<ipython-input-94-5900112aa300>\u001b[0m in \u001b[0;36m<module>\u001b[1;34m\u001b[0m\n\u001b[0;32m      6\u001b[0m     \u001b[0mstdout\u001b[0m \u001b[1;33m=\u001b[0m \u001b[0mstr\u001b[0m\u001b[1;33m(\u001b[0m\u001b[0mprocess\u001b[0m\u001b[1;33m.\u001b[0m\u001b[0mstdout\u001b[0m\u001b[1;33m,\u001b[0m \u001b[1;34m\"utf-8\"\u001b[0m\u001b[1;33m)\u001b[0m\u001b[1;33m\u001b[0m\u001b[1;33m\u001b[0m\u001b[0m\n\u001b[0;32m      7\u001b[0m     \u001b[0mSites\u001b[0m \u001b[1;33m=\u001b[0m \u001b[0mfillSitesFromStdout\u001b[0m\u001b[1;33m(\u001b[0m\u001b[0mstdout\u001b[0m\u001b[1;33m)\u001b[0m\u001b[1;33m\u001b[0m\u001b[1;33m\u001b[0m\u001b[0m\n\u001b[1;32m----> 8\u001b[1;33m     \u001b[0mSiteDic\u001b[0m \u001b[1;33m=\u001b[0m \u001b[0mfillSiteDic\u001b[0m\u001b[1;33m(\u001b[0m\u001b[0mSites\u001b[0m\u001b[1;33m,\u001b[0m\u001b[0mcwd_exe\u001b[0m\u001b[1;33m,\u001b[0m\u001b[0mcif\u001b[0m\u001b[1;33m)\u001b[0m\u001b[1;33m\u001b[0m\u001b[1;33m\u001b[0m\u001b[0m\n\u001b[0m\u001b[0;32m      9\u001b[0m     \u001b[0mSiteDic\u001b[0m \u001b[1;33m=\u001b[0m \u001b[0mcalAngleToSiteDic\u001b[0m\u001b[1;33m(\u001b[0m\u001b[0mSiteDic\u001b[0m\u001b[1;33m)\u001b[0m\u001b[1;33m\u001b[0m\u001b[1;33m\u001b[0m\u001b[0m\n\u001b[0;32m     10\u001b[0m     \u001b[0mcifDic\u001b[0m\u001b[1;33m[\u001b[0m\u001b[0mcif_name\u001b[0m\u001b[1;33m]\u001b[0m\u001b[1;33m.\u001b[0m\u001b[0mappend\u001b[0m\u001b[1;33m(\u001b[0m\u001b[0mSiteDic\u001b[0m\u001b[1;33m)\u001b[0m\u001b[1;33m\u001b[0m\u001b[1;33m\u001b[0m\u001b[0m\n",
      "\u001b[1;32m<ipython-input-93-8fdb0d8f7a09>\u001b[0m in \u001b[0;36mfillSiteDic\u001b[1;34m(Sites, cwd_exe, cif)\u001b[0m\n\u001b[0;32m      4\u001b[0m         \u001b[0mCoor\u001b[0m \u001b[1;33m=\u001b[0m \u001b[1;33m[\u001b[0m\u001b[1;33m[\u001b[0m\u001b[1;33m]\u001b[0m\u001b[1;33m]\u001b[0m\u001b[1;33m\u001b[0m\u001b[1;33m\u001b[0m\u001b[0m\n\u001b[0;32m      5\u001b[0m         \u001b[0mcenter\u001b[0m \u001b[1;33m=\u001b[0m \u001b[1;34m\"\"\u001b[0m\u001b[1;33m\u001b[0m\u001b[1;33m\u001b[0m\u001b[0m\n\u001b[1;32m----> 6\u001b[1;33m         \u001b[0mCalCNproc\u001b[0m \u001b[1;33m=\u001b[0m \u001b[0msubprocess\u001b[0m\u001b[1;33m.\u001b[0m\u001b[0mrun\u001b[0m\u001b[1;33m(\u001b[0m\u001b[1;33m[\u001b[0m\u001b[0mcwd_exe\u001b[0m\u001b[1;33m,\u001b[0m \u001b[1;34m\"--cal-cn-bv\"\u001b[0m\u001b[1;33m,\u001b[0m \u001b[0mcif\u001b[0m\u001b[1;33m,\u001b[0m \u001b[0msite\u001b[0m\u001b[1;33m]\u001b[0m\u001b[1;33m,\u001b[0m \u001b[0mcwd\u001b[0m\u001b[1;33m=\u001b[0m\u001b[1;34mr'd:\\Study\\softBV_mix\\GitHub\\projects\\Coord\\bin'\u001b[0m\u001b[1;33m,\u001b[0m \u001b[0mcapture_output\u001b[0m\u001b[1;33m=\u001b[0m\u001b[1;32mTrue\u001b[0m\u001b[1;33m)\u001b[0m\u001b[1;33m\u001b[0m\u001b[1;33m\u001b[0m\u001b[0m\n\u001b[0m\u001b[0;32m      7\u001b[0m         \u001b[0mstdout\u001b[0m \u001b[1;33m=\u001b[0m \u001b[0mstr\u001b[0m\u001b[1;33m(\u001b[0m\u001b[0mCalCNproc\u001b[0m\u001b[1;33m.\u001b[0m\u001b[0mstdout\u001b[0m\u001b[1;33m,\u001b[0m \u001b[1;34m\"utf-8\"\u001b[0m\u001b[1;33m)\u001b[0m\u001b[1;33m\u001b[0m\u001b[1;33m\u001b[0m\u001b[0m\n\u001b[0;32m      8\u001b[0m         \u001b[0mstdout_lines\u001b[0m \u001b[1;33m=\u001b[0m \u001b[0mstdout\u001b[0m\u001b[1;33m.\u001b[0m\u001b[0msplit\u001b[0m\u001b[1;33m(\u001b[0m\u001b[1;34m\"\\r\\n\"\u001b[0m\u001b[1;33m)\u001b[0m\u001b[1;33m\u001b[0m\u001b[1;33m\u001b[0m\u001b[0m\n",
      "\u001b[1;32mD:\\ProgramData\\Anaconda\\lib\\subprocess.py\u001b[0m in \u001b[0;36mrun\u001b[1;34m(input, capture_output, timeout, check, *popenargs, **kwargs)\u001b[0m\n\u001b[0;32m    486\u001b[0m         \u001b[0mkwargs\u001b[0m\u001b[1;33m[\u001b[0m\u001b[1;34m'stderr'\u001b[0m\u001b[1;33m]\u001b[0m \u001b[1;33m=\u001b[0m \u001b[0mPIPE\u001b[0m\u001b[1;33m\u001b[0m\u001b[1;33m\u001b[0m\u001b[0m\n\u001b[0;32m    487\u001b[0m \u001b[1;33m\u001b[0m\u001b[0m\n\u001b[1;32m--> 488\u001b[1;33m     \u001b[1;32mwith\u001b[0m \u001b[0mPopen\u001b[0m\u001b[1;33m(\u001b[0m\u001b[1;33m*\u001b[0m\u001b[0mpopenargs\u001b[0m\u001b[1;33m,\u001b[0m \u001b[1;33m**\u001b[0m\u001b[0mkwargs\u001b[0m\u001b[1;33m)\u001b[0m \u001b[1;32mas\u001b[0m \u001b[0mprocess\u001b[0m\u001b[1;33m:\u001b[0m\u001b[1;33m\u001b[0m\u001b[1;33m\u001b[0m\u001b[0m\n\u001b[0m\u001b[0;32m    489\u001b[0m         \u001b[1;32mtry\u001b[0m\u001b[1;33m:\u001b[0m\u001b[1;33m\u001b[0m\u001b[1;33m\u001b[0m\u001b[0m\n\u001b[0;32m    490\u001b[0m             \u001b[0mstdout\u001b[0m\u001b[1;33m,\u001b[0m \u001b[0mstderr\u001b[0m \u001b[1;33m=\u001b[0m \u001b[0mprocess\u001b[0m\u001b[1;33m.\u001b[0m\u001b[0mcommunicate\u001b[0m\u001b[1;33m(\u001b[0m\u001b[0minput\u001b[0m\u001b[1;33m,\u001b[0m \u001b[0mtimeout\u001b[0m\u001b[1;33m=\u001b[0m\u001b[0mtimeout\u001b[0m\u001b[1;33m)\u001b[0m\u001b[1;33m\u001b[0m\u001b[1;33m\u001b[0m\u001b[0m\n",
      "\u001b[1;32mD:\\ProgramData\\Anaconda\\lib\\subprocess.py\u001b[0m in \u001b[0;36m__init__\u001b[1;34m(self, args, bufsize, executable, stdin, stdout, stderr, preexec_fn, close_fds, shell, cwd, env, universal_newlines, startupinfo, creationflags, restore_signals, start_new_session, pass_fds, encoding, errors, text)\u001b[0m\n\u001b[0;32m    798\u001b[0m                                 \u001b[0mc2pread\u001b[0m\u001b[1;33m,\u001b[0m \u001b[0mc2pwrite\u001b[0m\u001b[1;33m,\u001b[0m\u001b[1;33m\u001b[0m\u001b[1;33m\u001b[0m\u001b[0m\n\u001b[0;32m    799\u001b[0m                                 \u001b[0merrread\u001b[0m\u001b[1;33m,\u001b[0m \u001b[0merrwrite\u001b[0m\u001b[1;33m,\u001b[0m\u001b[1;33m\u001b[0m\u001b[1;33m\u001b[0m\u001b[0m\n\u001b[1;32m--> 800\u001b[1;33m                                 restore_signals, start_new_session)\n\u001b[0m\u001b[0;32m    801\u001b[0m         \u001b[1;32mexcept\u001b[0m\u001b[1;33m:\u001b[0m\u001b[1;33m\u001b[0m\u001b[1;33m\u001b[0m\u001b[0m\n\u001b[0;32m    802\u001b[0m             \u001b[1;31m# Cleanup if the child failed starting.\u001b[0m\u001b[1;33m\u001b[0m\u001b[1;33m\u001b[0m\u001b[1;33m\u001b[0m\u001b[0m\n",
      "\u001b[1;32mD:\\ProgramData\\Anaconda\\lib\\subprocess.py\u001b[0m in \u001b[0;36m_execute_child\u001b[1;34m(self, args, executable, preexec_fn, close_fds, pass_fds, cwd, env, startupinfo, creationflags, shell, p2cread, p2cwrite, c2pread, c2pwrite, errread, errwrite, unused_restore_signals, unused_start_new_session)\u001b[0m\n\u001b[0;32m   1205\u001b[0m                                          \u001b[0menv\u001b[0m\u001b[1;33m,\u001b[0m\u001b[1;33m\u001b[0m\u001b[1;33m\u001b[0m\u001b[0m\n\u001b[0;32m   1206\u001b[0m                                          \u001b[0mos\u001b[0m\u001b[1;33m.\u001b[0m\u001b[0mfspath\u001b[0m\u001b[1;33m(\u001b[0m\u001b[0mcwd\u001b[0m\u001b[1;33m)\u001b[0m \u001b[1;32mif\u001b[0m \u001b[0mcwd\u001b[0m \u001b[1;32mis\u001b[0m \u001b[1;32mnot\u001b[0m \u001b[1;32mNone\u001b[0m \u001b[1;32melse\u001b[0m \u001b[1;32mNone\u001b[0m\u001b[1;33m,\u001b[0m\u001b[1;33m\u001b[0m\u001b[1;33m\u001b[0m\u001b[0m\n\u001b[1;32m-> 1207\u001b[1;33m                                          startupinfo)\n\u001b[0m\u001b[0;32m   1208\u001b[0m             \u001b[1;32mfinally\u001b[0m\u001b[1;33m:\u001b[0m\u001b[1;33m\u001b[0m\u001b[1;33m\u001b[0m\u001b[0m\n\u001b[0;32m   1209\u001b[0m                 \u001b[1;31m# Child is launched. Close the parent's copy of those pipe\u001b[0m\u001b[1;33m\u001b[0m\u001b[1;33m\u001b[0m\u001b[1;33m\u001b[0m\u001b[0m\n",
      "\u001b[1;31mKeyboardInterrupt\u001b[0m: "
     ]
    }
   ],
   "source": [
    "\n",
    "cifDic = {}\n",
    "for cif in all_files:\n",
    "    cif_name = cif[68:]\n",
    "    cifDic[cif_name] = []\n",
    "    process = subprocess.run([cwd_exe, \"--print-cell\", cif], cwd=r'd:\\Study\\softBV_mix\\GitHub\\projects\\Coord\\bin', capture_output=True)\n",
    "    stdout = str(process.stdout, \"utf-8\")\n",
    "    Sites = fillSitesFromStdout(stdout)\n",
    "    SiteDic = fillSiteDic(Sites,cwd_exe,cif)\n",
    "    SiteDic = calAngleToSiteDic(SiteDic)\n",
    "    cifDic[cif_name].append(SiteDic)\n",
    "\n",
    "np.save(\"../test/cifDic_20210407.npy\", cifDic)\n",
    "    "
   ]
  },
  {
   "cell_type": "code",
   "execution_count": 5,
   "metadata": {},
   "outputs": [],
   "source": [
    "\n",
    "process = subprocess.run([cwd_exe, \"--print-cell\", all_files[0]], cwd=r'd:\\Study\\softBV_mix\\GitHub\\projects\\Coord\\bin', capture_output=True)\n",
    "stdout = str(process.stdout, \"utf-8\")"
   ]
  },
  {
   "cell_type": "code",
   "execution_count": 76,
   "metadata": {},
   "outputs": [],
   "source": [
    "\n",
    "def fillSitesFromStdout(stdout):    \n",
    "    stdout_lines = stdout.split(\"\\r\\n\")\n",
    "    Sites = set()\n",
    "    for line in stdout_lines:\n",
    "        line = line.replace(\" \",\";\").split(\";\")\n",
    "        line = ' '.join(line).split()\n",
    "        if len(line)<10: continue\n",
    "        if line[3] == \"name=\":\n",
    "            Sites.add(line[4])\n",
    "    return Sites\n"
   ]
  },
  {
   "cell_type": "code",
   "execution_count": 93,
   "metadata": {},
   "outputs": [],
   "source": [
    "def fillSiteDic(Sites,cwd_exe,cif):\n",
    "    SiteDic = {}\n",
    "    for site in Sites:\n",
    "        Coor = [[]]\n",
    "        center = \"\"\n",
    "        CalCNproc = subprocess.run([cwd_exe, \"--cal-cn-bv\", cif, site], cwd=r'd:\\Study\\softBV_mix\\GitHub\\projects\\Coord\\bin', capture_output=True)\n",
    "        stdout = str(CalCNproc.stdout, \"utf-8\")\n",
    "        stdout_lines = stdout.split(\"\\r\\n\")\n",
    "        for line in stdout_lines:\n",
    "            line = line.split()\n",
    "            if len(line) < 1: continue\n",
    "            if line[1] == \"Center\":\n",
    "                center = line[3]\n",
    "            if line[1] == \"XYZ:\":\n",
    "                Coor[0].append(center)\n",
    "                Coor[0].append((float(line[3]),float(line[4]),float(line[5])))\n",
    "            if line[1] == \"Coordination\":\n",
    "                CN = float(line[3])\n",
    "                SiteDic[center] = [CN]\n",
    "            if len(line) < 12: continue\n",
    "            if line[5].isalpha(): continue\n",
    "            if float(line[5]) <= CN:\n",
    "                Coor.append([line[2]])\n",
    "                Coor[-1].append((float(line[10]),float(line[11]),float(line[12])))\n",
    "        if len(center) != 0: \n",
    "            SiteDic[center].append(Coor)\n",
    "        else: \n",
    "            print(\"Problematic cif:\",cif,Sites,\"\\n\")\n",
    "    return SiteDic\n",
    "\n"
   ]
  },
  {
   "cell_type": "code",
   "execution_count": 80,
   "metadata": {},
   "outputs": [],
   "source": [
    "def calAngleToSiteDic(SiteDic):\n",
    "    for site in SiteDic:\n",
    "        l = len(SiteDic[site][1])\n",
    "        SiteDic[site].append([])\n",
    "        for i in range(1,l-1):\n",
    "            for j in range(i+1,l):\n",
    "                SiteDic[site][2].append(calAngleDeg(SiteDic[site][1][0][1], SiteDic[site][1][i][1], SiteDic[site][1][j][1]))\n",
    "        SiteDic[site][2]=np.sort(SiteDic[site][2])[::-1]\n",
    "    return SiteDic"
   ]
  },
  {
   "cell_type": "code",
   "execution_count": 61,
   "metadata": {},
   "outputs": [
    {
     "output_type": "stream",
     "name": "stdout",
     "text": [
      "{'O1': array([163.41553502, 160.76929606, 156.96997936, 131.46022806,\n       123.89688618, 122.80625691, 119.65656298, 112.07994925,\n       100.00301502,  96.34413917,  89.30097415,  85.92282999,\n        82.07943834,  81.71483434,  76.40837723,  76.16067146,\n        74.53795324,  74.12139933,  73.70398216,  72.95036717,\n        71.27053873]), 'Li2': array([169.86634455, 169.86634455, 169.86634455,  97.86271807,\n        97.86271807,  97.86271807,  90.69902585,  90.69902585,\n        90.69902585,  86.25017968,  86.24443779,  86.24443779,\n        84.44507023,  84.44507023,  84.44507023]), 'Pb1': array([180.        , 180.        , 180.        ,  91.45546933,\n        91.45546933,  91.45546933,  91.45546933,  91.45546933,\n        91.45546933,  88.54453067,  88.54453067,  88.54453067,\n        88.54453067,  88.54453067,  88.54453067]), 'Li1': array([122.42532911, 111.1309059 , 110.20010995, 106.29601784,\n       103.9928022 , 101.04617311])}\n"
     ]
    }
   ],
   "source": [
    "AngleDic = {}\n",
    "for site in SiteDic:\n",
    "    AngleDic[site] = []\n",
    "    l = len(SiteDic[site][1])\n",
    "    for i in range(1,l-1):\n",
    "        for j in range(i+1,l):\n",
    "            AngleDic[site].append(calAngleDeg(SiteDic[site][1][0][1], SiteDic[site][1][i][1], SiteDic[site][1][j][1]))\n",
    "    AngleDic[site]=np.sort(AngleDic[site])[::-1]\n",
    "print(AngleDic)"
   ]
  },
  {
   "cell_type": "code",
   "execution_count": 46,
   "metadata": {},
   "outputs": [],
   "source": [
    "import numpy as np\n",
    "\n",
    "def calAngleCos(V0,V1,V2):\n",
    "    V0 = np.asarray(V0)\n",
    "    V1 = np.asarray(V1)\n",
    "    V2 = np.asarray(V2)\n",
    "    Va = V1 - V0   \n",
    "    Vb = V2 - V0\n",
    "    cos = np.dot(Va/np.linalg.norm(Va), Vb/np.linalg.norm(Vb))\n",
    "    return round(cos, 4)\n",
    "# Calculate the angle radians\n",
    "def calAngle(V0,V1,V2):\n",
    "    V0 = np.asarray(V0)\n",
    "    V1 = np.asarray(V1)\n",
    "    V2 = np.asarray(V2)\n",
    "    Va = V1 - V0   \n",
    "    Vb = V2 - V0\n",
    "    dot_product = round(np.dot(Va/np.linalg.norm(Va), Vb/np.linalg.norm(Vb)),4)\n",
    "    angle = np.arccos(dot_product)\n",
    "    return angle\n",
    "\n",
    "def calAngleDeg(V0,V1,V2):\n",
    "    V0, V1, V2 = [np.asarray(i) for i in [V0,V1,V2]]\n",
    "    Va = V1 - V0   \n",
    "    Vb = V2 - V0\n",
    "    dot_product = round(np.dot(Va/np.linalg.norm(Va), Vb/np.linalg.norm(Vb)),4)\n",
    "    angle = np.arccos(dot_product)\n",
    "    deg = np.rad2deg(angle)\n",
    "    return deg\n"
   ]
  },
  {
   "cell_type": "code",
   "execution_count": 100,
   "metadata": {},
   "outputs": [
    {
     "output_type": "stream",
     "name": "stdout",
     "text": [
      "2021-04-07 13:19:53.902622\n"
     ]
    }
   ],
   "source": [
    "from datetime import datetime\n",
    "print(datetime.now())"
   ]
  }
 ]
}