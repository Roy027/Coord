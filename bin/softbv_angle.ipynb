{
 "metadata": {
  "language_info": {
   "codemirror_mode": {
    "name": "ipython",
    "version": 3
   },
   "file_extension": ".py",
   "mimetype": "text/x-python",
   "name": "python",
   "nbconvert_exporter": "python",
   "pygments_lexer": "ipython3",
   "version": "3.7.7-final"
  },
  "orig_nbformat": 2,
  "kernelspec": {
   "name": "python3",
   "display_name": "Python 3",
   "language": "python"
  }
 },
 "nbformat": 4,
 "nbformat_minor": 2,
 "cells": [
  {
   "cell_type": "code",
   "execution_count": 1,
   "metadata": {},
   "outputs": [],
   "source": [
    "import subprocess\n",
    "import os\n",
    "import glob\n",
    "cwd = os.getcwd()\n"
   ]
  },
  {
   "cell_type": "code",
   "execution_count": 9,
   "metadata": {},
   "outputs": [
    {
     "output_type": "stream",
     "name": "stdout",
     "text": [
      "d:\\Study\\softBV_mix\\GitHub\\projects\\Coord\\bin\\softBV0405.exe d:\\Study\\softBV_mix\\GitHub\\projects\\Coord\\test/CsCl.cif\n"
     ]
    }
   ],
   "source": [
    "cwd_exe =os.path.join(cwd,'softBV0405.exe')\n",
    "cwd_cif =os.path.join(cwd[:-4],'test/CsCl.cif')\n",
    "#cwd_bin = os.path.join(cwd,'bin')\n",
    "print(cwd_exe,cwd_cif)"
   ]
  },
  {
   "cell_type": "code",
   "execution_count": 10,
   "metadata": {},
   "outputs": [
    {
     "output_type": "stream",
     "name": "stdout",
     "text": [
      "d:\\Study\\softBV_mix\\GitHub\\projects\\Coord\\bin\\bin\n"
     ]
    }
   ],
   "source": [
    "print(cwd_bin)\n",
    "process = subprocess.run([cwd_exe, \"--cal-cn-bv\", cwd_cif, \"Cs1\"], cwd=r'd:\\Study\\softBV_mix\\GitHub\\projects\\Coord\\bin', capture_output=True)\n"
   ]
  },
  {
   "cell_type": "code",
   "execution_count": 15,
   "metadata": {},
   "outputs": [
    {
     "output_type": "stream",
     "name": "stdout",
     "text": [
      "Message: reading cif file...\nMessage: total lines in the cif: 107\nWarning: _loop block containing _symmetry_equiv_pos_as_xyz not found.\nMessage: determining symmetry from _symmetry_equiv_pos_as_xyz/_space_group_symop_operation_xyz ...\nMessage: calculated cell volume = 70.291596\nMessage: sf=0.750000\nCN: Center atom:   Cs1 (Cs1+) \nCN: XYZ: [ 0.0000 0.0000 0.0000 ]\nCN: Coordination Number:        8.000\nCN: BVS: 0.8624      SD of BV:   0.000\nCN: Index Coordinated type       r    occ       n       s     BVS   s_ave   s_det  [   X       Y       Z  ]\nCN:     1             Cl1-  3.5741  1.000   1.000  0.1078  0.1078  0.1078  0.0000  -2.0635 -2.0635  2.0635\nCN:     2             Cl1-  3.5741  1.000   2.000  0.1078  0.2156  0.1078  1.0000  -2.0635  2.0635 -2.0635\nCN:     3             Cl1-  3.5741  1.000   3.000  0.1078  0.3234  0.1078  1.0000  -2.0635  2.0635  2.0635\nCN:     4             Cl1-  3.5741  1.000   4.000  0.1078  0.4312  0.1078  1.0000   2.0635 -2.0635 -2.0635\nCN:     5             Cl1-  3.5741  1.000   5.000  0.1078  0.5390  0.1078  1.0000   2.0635 -2.0635  2.0635\nCN:     6             Cl1-  3.5741  1.000   6.000  0.1078  0.6468  0.1078  1.0000   2.0635  2.0635 -2.0635\nCN:     7             Cl1-  3.5741  1.000   7.000  0.1078  0.7546  0.1078  1.0000  -2.0635 -2.0635 -2.0635\nCN:     8             Cl1-  3.5741  1.000   8.000  0.1078  0.8624  0.1078  1.0000   2.0635  2.0635  2.0635\n\n"
     ]
    }
   ],
   "source": [
    "stdout = str(process.stdout, \"utf-8\")\n",
    "print(stdout)"
   ]
  },
  {
   "cell_type": "code",
   "execution_count": 59,
   "metadata": {},
   "outputs": [
    {
     "output_type": "stream",
     "name": "stdout",
     "text": [
      "[['Cs1', (0.0, 0.0, 0.0)], ['Cl1-', (-2.0635, -2.0635, 2.0635)], ['Cl1-', (-2.0635, 2.0635, -2.0635)], ['Cl1-', (-2.0635, 2.0635, 2.0635)], ['Cl1-', (2.0635, -2.0635, -2.0635)], ['Cl1-', (2.0635, -2.0635, 2.0635)], ['Cl1-', (2.0635, 2.0635, -2.0635)], ['Cl1-', (-2.0635, -2.0635, -2.0635)], ['Cl1-', (2.0635, 2.0635, 2.0635)]]\n"
     ]
    }
   ],
   "source": [
    "# nest list to store all the coordinates of the local polyhedral\n",
    "Coor = [[]]\n",
    "stdout_lines = stdout.split(\"\\r\\n\")\n",
    "for line in stdout_lines:\n",
    "    line = line.split()\n",
    "    if len(line) < 1: continue\n",
    "    if line[1] == \"Center\":\n",
    "        center = line[3]\n",
    "    if line[1] == \"XYZ:\":\n",
    "        Coor[0].append(center)\n",
    "        Coor[0].append((float(line[3]),float(line[4]),float(line[5])))\n",
    "    if line[1] == \"Coordination\":\n",
    "        CN = float(line[3])\n",
    "    if len(line) < 12: continue\n",
    "    if line[5].isalpha(): continue\n",
    "    if float(line[5]) <= CN:\n",
    "        Coor.append([line[2]])\n",
    "        Coor[-1].append((float(line[10]),float(line[11]),float(line[12])))\n",
    "\n",
    "print(Coor)"
   ]
  },
  {
   "cell_type": "code",
   "execution_count": null,
   "metadata": {},
   "outputs": [],
   "source": [
    "# Calculate the angles\n",
    "angles = []\n"
   ]
  }
 ]
}