{
 "metadata": {
  "language_info": {
   "codemirror_mode": {
    "name": "ipython",
    "version": 3
   },
   "file_extension": ".py",
   "mimetype": "text/x-python",
   "name": "python",
   "nbconvert_exporter": "python",
   "pygments_lexer": "ipython3",
   "version": "3.7.7"
  },
  "orig_nbformat": 2,
  "kernelspec": {
   "name": "python3",
   "display_name": "Python 3",
   "language": "python"
  }
 },
 "nbformat": 4,
 "nbformat_minor": 2,
 "cells": [
  {
   "cell_type": "code",
   "execution_count": 1,
   "metadata": {},
   "outputs": [],
   "source": [
    "import subprocess\n",
    "import os\n",
    "import glob\n",
    "cwd = os.getcwd()\n"
   ]
  },
  {
   "cell_type": "code",
   "execution_count": 14,
   "metadata": {},
   "outputs": [
    {
     "output_type": "execute_result",
     "data": {
      "text/plain": [
       "'d:\\\\Study\\\\softBV_mix\\\\GitHub\\\\projects\\\\Coord\\\\test/Li_database_CN4_occ1\\\\10062.cif'"
      ]
     },
     "metadata": {},
     "execution_count": 14
    }
   ],
   "source": [
    "cwd_exe =os.path.join(cwd,'softBV0405.exe')\n",
    "#cwd_cif =os.path.join(cwd[:-4],'test/CsCl.cif')\n",
    "all_files = glob.glob(os.path.join(cwd[:-4],'test/Li_database_CN4_occ1/*.cif'))\n",
    "all_files[0]"
   ]
  },
  {
   "cell_type": "code",
   "execution_count": 16,
   "metadata": {},
   "outputs": [],
   "source": [
    "\n",
    "process = subprocess.run([cwd_exe, \"--cal-cn-bv\", all_files[0], \"Li1\"], cwd=r'd:\\Study\\softBV_mix\\GitHub\\projects\\Coord\\bin', capture_output=True)\n",
    "stdout = str(process.stdout, \"utf-8\")"
   ]
  },
  {
   "cell_type": "code",
   "execution_count": 17,
   "metadata": {},
   "outputs": [
    {
     "output_type": "stream",
     "name": "stdout",
     "text": [
      "Message: reading cif file...\nMessage: total lines in the cif: 80\nWarning: _loop block containing _symmetry_equiv_pos_as_xyz not found.\nMessage: determining symmetry from _symmetry_equiv_pos_as_xyz/_space_group_symop_operation_xyz ...\nMessage: calculated cell volume = 415.890852\nMessage: sf=0.750000\nCN: Center atom:   Li1 (Li1+) \nCN: XYZ: [ -0.9395 1.7905 13.7560 ]\nCN: Coordination Number:        4.000\nCN: BVS: 0.9609      SD of BV:   0.033\nCN: Index Coordinated type       r    occ       n       s     BVS   s_ave   s_det  [   X       Y       Z  ]\nCN:     1              O2-  1.8420  1.000   1.000  0.2724  0.2724  0.2724  0.0000  -1.9373  3.2307 14.3249\nCN:     2              O2-  1.9863  1.000   2.000  0.2060  0.4784  0.2392  1.3225   0.9423  1.5073 14.3249\nCN:     3              O2-  2.0027  1.000   3.000  0.1995  0.6779  0.2260  1.1988  -1.7765  0.0624 14.3249\nCN:     4              O2-  2.0332  1.000   4.000  0.1881  0.8659  0.2165  1.2015  -0.9423  1.6929 11.7251\nCN:     5              O2-  3.1885  1.000   5.000  0.0200  0.8860  0.1772 10.8026  -0.8342  1.5697 16.9351\n\n"
     ]
    }
   ],
   "source": [
    "\n",
    "print(stdout)"
   ]
  },
  {
   "cell_type": "code",
   "execution_count": 18,
   "metadata": {},
   "outputs": [
    {
     "output_type": "stream",
     "name": "stdout",
     "text": [
      "[['Li1', (-0.9395, 1.7905, 13.756)], ['O2-', (-1.9373, 3.2307, 14.3249)], ['O2-', (0.9423, 1.5073, 14.3249)], ['O2-', (-1.7765, 0.0624, 14.3249)], ['O2-', (-0.9423, 1.6929, 11.7251)]]\n"
     ]
    }
   ],
   "source": [
    "# nest list to store all the coordinates of the local polyhedral\n",
    "Coor = [[]]\n",
    "stdout_lines = stdout.split(\"\\r\\n\")\n",
    "for line in stdout_lines:\n",
    "    line = line.split()\n",
    "    if len(line) < 1: continue\n",
    "    if line[1] == \"Center\":\n",
    "        center = line[3]\n",
    "    if line[1] == \"XYZ:\":\n",
    "        Coor[0].append(center)\n",
    "        Coor[0].append((float(line[3]),float(line[4]),float(line[5])))\n",
    "    if line[1] == \"Coordination\":\n",
    "        CN = float(line[3])\n",
    "    if len(line) < 12: continue\n",
    "    if line[5].isalpha(): continue\n",
    "    if float(line[5]) <= CN:\n",
    "        Coor.append([line[2]])\n",
    "        Coor[-1].append((float(line[10]),float(line[11]),float(line[12])))\n",
    "\n",
    "print(Coor)"
   ]
  },
  {
   "cell_type": "code",
   "execution_count": 47,
   "metadata": {},
   "outputs": [],
   "source": [
    "# Calculate the angles\n",
    "angles = []\n",
    "l = len(Coor)\n",
    "for i in range(1,l-1):\n",
    "    for j in range(i+1,l):\n",
    "        angles.append(calAngleDeg(Coor[0][1],Coor[i][1],Coor[j][1]))\n",
    "angles.sort(reverse=True)"
   ]
  },
  {
   "cell_type": "code",
   "execution_count": 46,
   "metadata": {},
   "outputs": [],
   "source": [
    "import numpy as np\n",
    "\n",
    "def calAngleCos(V0,V1,V2):\n",
    "    V0 = np.asarray(V0)\n",
    "    V1 = np.asarray(V1)\n",
    "    V2 = np.asarray(V2)\n",
    "    Va = V1 - V0   \n",
    "    Vb = V2 - V0\n",
    "    cos = np.dot(Va/np.linalg.norm(Va), Vb/np.linalg.norm(Vb))\n",
    "    return round(cos, 4)\n",
    "# Calculate the angle radians\n",
    "def calAngle(V0,V1,V2):\n",
    "    V0 = np.asarray(V0)\n",
    "    V1 = np.asarray(V1)\n",
    "    V2 = np.asarray(V2)\n",
    "    Va = V1 - V0   \n",
    "    Vb = V2 - V0\n",
    "    dot_product = round(np.dot(Va/np.linalg.norm(Va), Vb/np.linalg.norm(Vb)),4)\n",
    "    angle = np.arccos(dot_product)\n",
    "    return angle\n",
    "\n",
    "def calAngleDeg(V0,V1,V2):\n",
    "    V0, V1, V2 = [np.asarray(i) for i in [V0,V1,V2]]\n",
    "    Va = V1 - V0   \n",
    "    Vb = V2 - V0\n",
    "    dot_product = round(np.dot(Va/np.linalg.norm(Va), Vb/np.linalg.norm(Vb)),4)\n",
    "    angle = np.arccos(dot_product)\n",
    "    deg = np.rad2deg(angle)\n",
    "    deg = np.around(deg,3)  \n",
    "    deg = deg.tolist()\n",
    "    return deg\n"
   ]
  },
  {
   "cell_type": "code",
   "execution_count": 33,
   "metadata": {},
   "outputs": [
    {
     "output_type": "execute_result",
     "data": {
      "text/plain": [
       "array([22.4, 33.6])"
      ]
     },
     "metadata": {},
     "execution_count": 33
    }
   ],
   "source": [
    "np.around([22.37, 33.64], decimals=1)\n"
   ]
  }
 ]
}