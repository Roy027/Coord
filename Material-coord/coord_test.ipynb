{
 "metadata": {
  "language_info": {
   "codemirror_mode": {
    "name": "ipython",
    "version": 3
   },
   "file_extension": ".py",
   "mimetype": "text/x-python",
   "name": "python",
   "nbconvert_exporter": "python",
   "pygments_lexer": "ipython3",
   "version": "3.7.7-final"
  },
  "orig_nbformat": 2,
  "kernelspec": {
   "name": "python3",
   "display_name": "Python 3",
   "language": "python"
  }
 },
 "nbformat": 4,
 "nbformat_minor": 2,
 "cells": [
  {
   "cell_type": "code",
   "execution_count": 1,
   "metadata": {},
   "outputs": [],
   "source": [
    "from pymatgen import Structure\n",
    "import pymatgen as mg\n",
    "import sys\n",
    "import os\n",
    "from materialscoord.core import Benchmark"
   ]
  },
  {
   "cell_type": "code",
   "execution_count": 5,
   "metadata": {},
   "outputs": [],
   "source": [
    "json = Structure.from_file(\"./test/BaAl2O4_21080.json\")"
   ]
  },
  {
   "cell_type": "code",
   "execution_count": 13,
   "metadata": {},
   "outputs": [
    {
     "output_type": "execute_result",
     "data": {
      "text/plain": [
       "{'coordination': [{'Ba': 0.0, 'Al': 0.0, 'O': 9.0},\n",
       "  {'Ba': 0.0, 'Al': 0.0, 'O': 9.0},\n",
       "  {'Ba': 0.0, 'Al': 0.0, 'O': 4.0},\n",
       "  {'Ba': 0.0, 'Al': 0.0, 'O': 4.0},\n",
       "  {'Ba': 0.0, 'Al': 0.0, 'O': 4.0},\n",
       "  {'Ba': 0.0, 'Al': 0.0, 'O': 4.0},\n",
       "  {'Ba': 3.0, 'Al': 2.0, 'O': 0.0},\n",
       "  {'Ba': 3.0, 'Al': 2.0, 'O': 0.0},\n",
       "  {'Ba': 2.0, 'Al': 2.0, 'O': 0.0},\n",
       "  {'Ba': 2.0, 'Al': 2.0, 'O': 0.0},\n",
       "  {'Ba': 2.0, 'Al': 2.0, 'O': 0.0},\n",
       "  {'Ba': 2.0, 'Al': 2.0, 'O': 0.0},\n",
       "  {'Ba': 2.0, 'Al': 2.0, 'O': 0.0},\n",
       "  {'Ba': 2.0, 'Al': 2.0, 'O': 0.0}]}"
      ]
     },
     "metadata": {},
     "execution_count": 13
    }
   ],
   "source": [
    "json.site_properties"
   ]
  },
  {
   "cell_type": "code",
   "execution_count": 63,
   "metadata": {},
   "outputs": [
    {
     "output_type": "stream",
     "name": "stdout",
     "text": [
      "Al3+\nAl3+\nAl3+\nAs5+\nAs5+\nAs5+\nO2-\nO2-\nO2-\nO2-\nO2-\nO2-\nO2-\nO2-\nO2-\nO2-\nO2-\nO2-\n"
     ]
    }
   ],
   "source": [
    "js2= Structure.from_file(\"./test/AlAsO4_33254.json\")\n",
    "for site in js2.species:\n",
    "    print(site)"
   ]
  },
  {
   "cell_type": "code",
   "execution_count": 51,
   "metadata": {},
   "outputs": [
    {
     "output_type": "stream",
     "name": "stdout",
     "text": [
      "Al3+1 :  4.0\nAl3+1 :  4.0\nAl3+1 :  4.0\nAs5+1 :  4.0\nAs5+1 :  4.0\nAs5+1 :  4.0\nO2-1 :  2.0\nO2-1 :  2.0\nO2-1 :  2.0\nO2-1 :  2.0\nO2-1 :  2.0\nO2-1 :  2.0\nO2-1 :  3.0\nO2-1 :  3.0\nO2-1 :  3.0\nO2-1 :  3.0\nO2-1 :  3.0\nO2-1 :  3.0\n"
     ]
    }
   ],
   "source": [
    "js2.site_properties\n",
    "coor_num =[]\n",
    "for item in js2.site_properties['coordination']:\n",
    "    coor_num.append(sum(item.values()))\n",
    "st = []\n",
    "for item in js2.sites:\n",
    "    st.append(item.species)\n",
    "for i in range(len(st)):\n",
    "    print(st[i],\": \",coor_num[i])\n"
   ]
  },
  {
   "cell_type": "code",
   "execution_count": 7,
   "metadata": {},
   "outputs": [],
   "source": [
    "cif= mg.io.cif.CifWriter(json)"
   ]
  },
  {
   "cell_type": "code",
   "execution_count": 9,
   "metadata": {},
   "outputs": [
    {
     "output_type": "stream",
     "name": "stdout",
     "text": [
      "# generated using pymatgen\ndata_BaAl2O4\n_symmetry_space_group_name_H-M   'P 1'\n_cell_length_a   5.22700000\n_cell_length_b   5.22700000\n_cell_length_c   8.80200000\n_cell_angle_alpha   90.00000000\n_cell_angle_beta   90.00000000\n_cell_angle_gamma   120.00000000\n_symmetry_Int_Tables_number   1\n_chemical_formula_structural   BaAl2O4\n_chemical_formula_sum   'Ba2 Al4 O8'\n_cell_volume   208.26533830\n_cell_formula_units_Z   2\nloop_\n _symmetry_equiv_pos_site_id\n _symmetry_equiv_pos_as_xyz\n  1  'x, y, z'\nloop_\n _atom_type_symbol\n _atom_type_oxidation_number\n  Ba2+  2.0\n  Al3+  3.0\n  O2-  -2.0\nloop_\n _atom_site_type_symbol\n _atom_site_label\n _atom_site_symmetry_multiplicity\n _atom_site_fract_x\n _atom_site_fract_y\n _atom_site_fract_z\n _atom_site_occupancy\n  Ba2+  Ba0  1  0.00000000  0.00000000  0.25000000  1.0\n  Ba2+  Ba1  1  0.00000000  0.00000000  0.75000000  1.0\n  Al3+  Al2  1  0.33333333  0.66666667  0.44900000  1.0\n  Al3+  Al3  1  0.66666667  0.33333333  0.55100000  1.0\n  Al3+  Al4  1  0.66666667  0.33333333  0.94900000  1.0\n  Al3+  Al5  1  0.33333333  0.66666667  0.05100000  1.0\n  O2-  O6  1  0.33333333  0.66666667  0.25000000  1.0\n  O2-  O7  1  0.66666667  0.33333333  0.75000000  1.0\n  O2-  O8  1  0.34300000  0.34300000  0.50000000  1.0\n  O2-  O9  1  0.65700000  0.00000000  0.50000000  1.0\n  O2-  O10  1  0.00000000  0.65700000  0.50000000  1.0\n  O2-  O11  1  0.65700000  0.65700000  0.00000000  1.0\n  O2-  O12  1  0.34300000  0.00000000  0.00000000  1.0\n  O2-  O13  1  0.00000000  0.34300000  0.00000000  1.0\n\n"
     ]
    }
   ],
   "source": [
    "print(cif)"
   ]
  },
  {
   "cell_type": "code",
   "execution_count": 2,
   "metadata": {},
   "outputs": [
    {
     "output_type": "execute_result",
     "data": {
      "text/plain": [
       "Structure Summary\n",
       "Lattice\n",
       "    abc : 4.127 4.127 4.127\n",
       " angles : 90.0 90.0 90.0\n",
       " volume : 70.29159638299998\n",
       "      A : 4.127 0.0 2.5270586700405634e-16\n",
       "      B : 6.636722175215479e-16 4.127 2.5270586700405634e-16\n",
       "      C : 0.0 0.0 4.127\n",
       "PeriodicSite: Cs+ (0.0000, 0.0000, 0.0000) [0.0000, 0.0000, 0.0000]\n",
       "PeriodicSite: Cl- (2.0635, 2.0635, 2.0635) [0.5000, 0.5000, 0.5000]"
      ]
     },
     "metadata": {},
     "execution_count": 2
    }
   ],
   "source": [
    "#structure = Structure.from_str(open('./test/LiTa2PO8m.cif').read(),fmt=\"cif\")\n",
    "#s = Structure.from_file(\"./test/LiTa2PO8m1.cif\")\n",
    "s1 = Structure.from_file(\"./test/CsCl.cif\")\n",
    "#s2 = Structure.from_file(\"./test/Li4PS4I.cif\")\n",
    "s1"
   ]
  },
  {
   "cell_type": "code",
   "execution_count": 21,
   "metadata": {},
   "outputs": [
    {
     "output_type": "stream",
     "name": "stdout",
     "text": [
      "8\n{8: 0.8792244309754451, 14: 0.12077556902455491}\n"
     ]
    },
    {
     "output_type": "execute_result",
     "data": {
      "text/plain": [
       "PeriodicSite: Cl- (2.0635, -2.0635, -2.0635) [0.5000, -0.5000, -0.5000]"
      ]
     },
     "metadata": {},
     "execution_count": 21
    }
   ],
   "source": [
    "B_stru=mg.analysis.local_env.CrystalNN()\n",
    "print(B_stru.get_cn(s1,0))\n",
    "print(B_stru.get_nn_data(s1,0).cn_weights)\n",
    "B_stru.get_nn_data(s1,0).cn_nninfo[8][0][\"site\"]"
   ]
  },
  {
   "cell_type": "code",
   "execution_count": 13,
   "metadata": {},
   "outputs": [
    {
     "output_type": "error",
     "ename": "AttributeError",
     "evalue": "specie",
     "traceback": [
      "\u001b[1;31m---------------------------------------------------------------------------\u001b[0m",
      "\u001b[1;31mAttributeError\u001b[0m                            Traceback (most recent call last)",
      "\u001b[1;32m<ipython-input-13-21f0decd26a2>\u001b[0m in \u001b[0;36m<module>\u001b[1;34m\u001b[0m\n\u001b[1;32m----> 1\u001b[1;33m \u001b[0mstructure\u001b[0m\u001b[1;33m.\u001b[0m\u001b[0mspecies\u001b[0m\u001b[1;33m\u001b[0m\u001b[1;33m\u001b[0m\u001b[0m\n\u001b[0m",
      "\u001b[1;32mD:\\ProgramData\\Anaconda\\lib\\site-packages\\pymatgen\\core\\structure.py\u001b[0m in \u001b[0;36mspecies\u001b[1;34m(self)\u001b[0m\n\u001b[0;32m    196\u001b[0m             \u001b[1;33m(\u001b[0m\u001b[1;33m[\u001b[0m\u001b[0mSpecies\u001b[0m\u001b[1;33m]\u001b[0m\u001b[1;33m)\u001b[0m \u001b[0mList\u001b[0m \u001b[0mof\u001b[0m \u001b[0mspecies\u001b[0m \u001b[0mat\u001b[0m \u001b[0meach\u001b[0m \u001b[0msite\u001b[0m \u001b[0mof\u001b[0m \u001b[0mthe\u001b[0m \u001b[0mstructure\u001b[0m\u001b[1;33m.\u001b[0m\u001b[1;33m\u001b[0m\u001b[1;33m\u001b[0m\u001b[0m\n\u001b[0;32m    197\u001b[0m         \"\"\"\n\u001b[1;32m--> 198\u001b[1;33m         \u001b[1;32mreturn\u001b[0m \u001b[1;33m[\u001b[0m\u001b[0msite\u001b[0m\u001b[1;33m.\u001b[0m\u001b[0mspecie\u001b[0m \u001b[1;32mfor\u001b[0m \u001b[0msite\u001b[0m \u001b[1;32min\u001b[0m \u001b[0mself\u001b[0m\u001b[1;33m]\u001b[0m\u001b[1;33m\u001b[0m\u001b[1;33m\u001b[0m\u001b[0m\n\u001b[0m\u001b[0;32m    199\u001b[0m \u001b[1;33m\u001b[0m\u001b[0m\n\u001b[0;32m    200\u001b[0m     \u001b[1;33m@\u001b[0m\u001b[0mproperty\u001b[0m\u001b[1;33m\u001b[0m\u001b[1;33m\u001b[0m\u001b[0m\n",
      "\u001b[1;32mD:\\ProgramData\\Anaconda\\lib\\site-packages\\pymatgen\\core\\structure.py\u001b[0m in \u001b[0;36m<listcomp>\u001b[1;34m(.0)\u001b[0m\n\u001b[0;32m    196\u001b[0m             \u001b[1;33m(\u001b[0m\u001b[1;33m[\u001b[0m\u001b[0mSpecies\u001b[0m\u001b[1;33m]\u001b[0m\u001b[1;33m)\u001b[0m \u001b[0mList\u001b[0m \u001b[0mof\u001b[0m \u001b[0mspecies\u001b[0m \u001b[0mat\u001b[0m \u001b[0meach\u001b[0m \u001b[0msite\u001b[0m \u001b[0mof\u001b[0m \u001b[0mthe\u001b[0m \u001b[0mstructure\u001b[0m\u001b[1;33m.\u001b[0m\u001b[1;33m\u001b[0m\u001b[1;33m\u001b[0m\u001b[0m\n\u001b[0;32m    197\u001b[0m         \"\"\"\n\u001b[1;32m--> 198\u001b[1;33m         \u001b[1;32mreturn\u001b[0m \u001b[1;33m[\u001b[0m\u001b[0msite\u001b[0m\u001b[1;33m.\u001b[0m\u001b[0mspecie\u001b[0m \u001b[1;32mfor\u001b[0m \u001b[0msite\u001b[0m \u001b[1;32min\u001b[0m \u001b[0mself\u001b[0m\u001b[1;33m]\u001b[0m\u001b[1;33m\u001b[0m\u001b[1;33m\u001b[0m\u001b[0m\n\u001b[0m\u001b[0;32m    199\u001b[0m \u001b[1;33m\u001b[0m\u001b[0m\n\u001b[0;32m    200\u001b[0m     \u001b[1;33m@\u001b[0m\u001b[0mproperty\u001b[0m\u001b[1;33m\u001b[0m\u001b[1;33m\u001b[0m\u001b[0m\n",
      "\u001b[1;32mD:\\ProgramData\\Anaconda\\lib\\site-packages\\pymatgen\\core\\sites.py\u001b[0m in \u001b[0;36m__getattr__\u001b[1;34m(self, a)\u001b[0m\n\u001b[0;32m     78\u001b[0m         \u001b[1;32mif\u001b[0m \u001b[0ma\u001b[0m \u001b[1;32min\u001b[0m \u001b[0mp\u001b[0m\u001b[1;33m:\u001b[0m\u001b[1;33m\u001b[0m\u001b[1;33m\u001b[0m\u001b[0m\n\u001b[0;32m     79\u001b[0m             \u001b[1;32mreturn\u001b[0m \u001b[0mp\u001b[0m\u001b[1;33m[\u001b[0m\u001b[0ma\u001b[0m\u001b[1;33m]\u001b[0m\u001b[1;33m\u001b[0m\u001b[1;33m\u001b[0m\u001b[0m\n\u001b[1;32m---> 80\u001b[1;33m         \u001b[1;32mraise\u001b[0m \u001b[0mAttributeError\u001b[0m\u001b[1;33m(\u001b[0m\u001b[0ma\u001b[0m\u001b[1;33m)\u001b[0m\u001b[1;33m\u001b[0m\u001b[1;33m\u001b[0m\u001b[0m\n\u001b[0m\u001b[0;32m     81\u001b[0m \u001b[1;33m\u001b[0m\u001b[0m\n\u001b[0;32m     82\u001b[0m     \u001b[1;33m@\u001b[0m\u001b[0mproperty\u001b[0m\u001b[1;33m\u001b[0m\u001b[1;33m\u001b[0m\u001b[0m\n",
      "\u001b[1;31mAttributeError\u001b[0m: specie"
     ]
    }
   ],
   "source": [
    "structure.species"
   ]
  },
  {
   "cell_type": "code",
   "execution_count": 64,
   "metadata": {},
   "outputs": [
    {
     "output_type": "stream",
     "name": "stdout",
     "text": [
      "8 14\n"
     ]
    }
   ],
   "source": [
    "Crystal_S1=mg.analysis.local_env.CrystalNN()\n",
    "Brun_S1=mg.analysis.local_env.BrunnerNN_real()\n",
    "print(Crystal_S1.get_cn(s1,1), Brun_S1.get_cn(s1,1))\n",
    "#B_str1=mg.analysis.local_env.BrunnerNN_real(structure1)"
   ]
  },
  {
   "cell_type": "code",
   "execution_count": 94,
   "metadata": {},
   "outputs": [
    {
     "output_type": "execute_result",
     "data": {
      "text/plain": [
       "2"
      ]
     },
     "metadata": {},
     "execution_count": 94
    }
   ],
   "source": [
    "strc"
   ]
  }
 ]
}