{
 "metadata": {
  "language_info": {
   "codemirror_mode": {
    "name": "ipython",
    "version": 3
   },
   "file_extension": ".py",
   "mimetype": "text/x-python",
   "name": "python",
   "nbconvert_exporter": "python",
   "pygments_lexer": "ipython3",
   "version": "3.7.7"
  },
  "orig_nbformat": 2,
  "kernelspec": {
   "name": "python3",
   "display_name": "Python 3.7.7 64-bit ('ProgramData': virtualenv)",
   "metadata": {
    "interpreter": {
     "hash": "72f09891e61cbd39b4bc4ed275c3f2f678107ed95693052ff55d65486844129c"
    }
   }
  }
 },
 "nbformat": 4,
 "nbformat_minor": 2,
 "cells": [
  {
   "cell_type": "code",
   "execution_count": 56,
   "metadata": {},
   "outputs": [],
   "source": [
    "import numpy as np \n",
    "\n",
    "cifDic = np.load(\"./test/cifDic_20210407.npy\", allow_pickle=True)"
   ]
  },
  {
   "cell_type": "code",
   "execution_count": 57,
   "metadata": {},
   "outputs": [
    {
     "output_type": "execute_result",
     "data": {
      "text/plain": [
       "dict_keys(['10062.cif', '10257.cif', '10479.cif', '1384.cif', '14045.cif', '14235.cif', '14360.cif', '14364.cif', '15111.cif', '16229.cif', '17056.cif', '1726.cif', '18019.cif', '18020.cif', '18152.cif', '1897.cif', '19002.cif', '19023.cif', '19024.cif', '1972.cif', '20191.cif', '20208.cif', '20217.cif', '20434.cif', '20641.cif', '20805.cif', '20835.cif', '20851.cif', '2121.cif', '21418.cif', '21518.cif', '21519.cif', '22010.cif', '22011.cif', '22012.cif', '22013.cif', '22014.cif', '22015.cif', '22347.cif', '23017.cif', '2319.cif', '23634.cif', '23723.cif', '23815.cif', '24888.cif', '24896.cif', '24897.cif', '2512.cif', '25383.cif', '26337.cif', '26452.cif', '26817.cif', '27212.cif', '27316.cif', '2929.cif', '2935.cif', '30718.cif', '30909.cif', '30982.cif', '30983.cif', '32594.cif', '32595.cif', '33251.cif', '33279.cif', '33280.cif', '33761.cif', '33809.cif', '33810.cif', '33864.cif', '33890.cif', '34073.cif', '34950.cif', '35018.cif', '35161.cif', '35162.cif', '35163.cif', '35164.cif', '35165.cif', '35166.cif', '35168.cif', '35169.cif', '35250.cif', '35290.cif', '35405.cif', '36038.cif', '36216.cif', '36470.cif', '36471.cif', '36472.cif', '36531.cif', '36532.cif', '36644.cif', '36645.cif', '37071.cif', '37084.cif', '37163.cif', '37327.cif', '38036.cif', '38250.cif', '38324.cif', '38350.cif', '39206.cif', '39403.cif', '39563.cif', '39628.cif', '39648.cif', '39674.cif', '39675.cif', '39763.cif', '39814.cif', '39906.cif', '39907.cif', '39908.cif', '40156.cif', '40218.cif', '40219.cif', '40269.cif', '40418.cif', '40458.cif', '40945.cif', '4204.cif', '42499.cif', '47104.cif', '47229.cif', '48136.cif', '48177.cif', '4820.cif', '48209.cif', '49021.cif', '49022.cif', '49026.cif', '49755.cif', '50006.cif', '50058.cif', '50305.cif', '50306.cif', '50415.cif', '50416.cif', '50420.cif', '50422.cif', '50423.cif', '50442.cif', '50612.cif', '50851.cif', '50852.cif', '50854.cif', '50950.cif', '51184.cif', '51185.cif', '51187.cif', '51206.cif', '51314.cif', '51333.cif', '51630.cif', '51631.cif', '51667.cif', '51690.cif', '51691.cif', '51692.cif', '51693.cif', '51694.cif', '51695.cif', '51754.cif', '54368.cif', '54700.cif', '54701.cif', '54839.cif', '54858.cif', '55053.cif', '55750.cif', '5668.cif', '5669.cif', '56757.cif', '56759.cif', '56760.cif', '58.cif', '59112.cif', '59243.cif', '59640.cif', '59647.cif', '59936.cif', '60069.cif', '60768.cif', '60824.cif', '60838.cif', '60949.cif', '61091.cif', '61204.cif', '61217.cif', '61218.cif', '61219.cif', '6169.cif', '61692.cif', '62024.cif', '62089.cif', '62124.cif', '62137.cif', '62244.cif', '62300.cif', '62301.cif', '62333.cif', '62514.cif', '62532.cif', '62629.cif', '62654.cif', '62878.cif', '63179.cif', '63181.cif', '63182.cif', '63183.cif', '63388.cif', '63389.cif', '63415.cif', '63416.cif', '63417.cif', '63477.cif', '63636.cif', '63637.cif', '63718.cif', '638.cif', '64597.cif', '64746.cif', '64911.cif', '64962.cif', '65005.cif', '65006.cif', '65051.cif', '65125.cif', '65150.cif', '65151.cif', '65158.cif', '65175.cif', '65176.cif', '65177.cif', '65260.cif', '65283.cif', '65284.cif', '65291.cif', '65442.cif', '65444.cif', '65474.cif', '65643.cif', '65764.cif', '65976.cif', '65978.cif', '66097.cif', '66098.cif', '66387.cif', '66576.cif', '66577.cif', '66941.cif', '66942.cif', '67114.cif', '67144.cif', '67145.cif', '67150.cif', '67151.cif', '67204.cif', '67205.cif', '67254.cif', '67560.cif', '67702.cif', '67703.cif', '67887.cif', '68251.cif', '68252.cif', '68494.cif', '68523.cif', '68586.cif', '68587.cif', '68653.cif', '69017.cif', '69050.cif', '69133.cif', '69221.cif', '69300.cif', '69345.cif', '69346.cif', '69347.cif', '69394.cif', '69491.cif', '69560.cif', '69678.cif', '69967.cif', '7.cif', '70045.cif', '70046.cif', '71035.cif', '71238.cif', '71277.cif', '71364.cif', '71365.cif', '71366.cif', '71367.cif', '71421.cif', '71547.cif', '71696.cif', '71875.cif', '71946.cif', '72.cif', '72098.cif', '72101.cif', '72361.cif', '72422.cif', '72423.cif', '8237.cif', '8238.cif', '8255.cif', '8280.cif', '9082.cif', '9430.cif', '9433.cif', '9434.cif', '9923.cif', '9987.cif'])"
      ]
     },
     "metadata": {},
     "execution_count": 57
    }
   ],
   "source": [
    "cifDic[()].keys()"
   ]
  },
  {
   "cell_type": "code",
   "execution_count": 52,
   "metadata": {},
   "outputs": [
    {
     "output_type": "stream",
     "name": "stdout",
     "text": [
      "62654.cif\n"
     ]
    }
   ],
   "source": [
    "cifD = cifDic[()]\n",
    "# Select CN with 4\n",
    "AngleList_4 = [[]]\n",
    "i = 0\n",
    "for cif in cifD:\n",
    "    AngleList_4[i].append(cif)\n",
    "    if len(cifD[cif]) < 1:\n",
    "        print(cif)\n",
    "        continue\n",
    "    for site in cifD[cif][0]:\n",
    "        cn = float(cifD[cif][0][site][0])\n",
    "        if cn == 4:\n",
    "            # Append Site\n",
    "            AngleList_4[i].append(site)\n",
    "            # Append Angle list\n",
    "            AngleList_4[i].append(cifD[cif][0][site][2])\n",
    "    AngleList_4.append([])\n",
    "    i += 1"
   ]
  },
  {
   "cell_type": "code",
   "execution_count": 68,
   "metadata": {},
   "outputs": [],
   "source": [
    "cifD = cifDic[()]\n",
    "# Select CN with 4\n",
    "AngleList = [[]]\n",
    "i = 0\n",
    "for cif in cifD:\n",
    "    if len(cifD[cif]) < 1:\n",
    "        print(cif)\n",
    "        continue\n",
    "    for site in cifD[cif][0]:\n",
    "        # Append cif name\n",
    "        AngleList[i].append(cif)\n",
    "        # Append Site\n",
    "        AngleList[i].append(site)\n",
    "        # Append CN\n",
    "        AngleList[i].append(float(cifD[cif][0][site][0]))\n",
    "        # Append Angle list\n",
    "        AngleList[i].append(cifD[cif][0][site][2].tolist())\n",
    "        # Add next column\n",
    "        AngleList.append([])\n",
    "        i += 1"
   ]
  },
  {
   "cell_type": "code",
   "execution_count": 69,
   "metadata": {},
   "outputs": [
    {
     "output_type": "execute_result",
     "data": {
      "text/plain": [
       "['10062.cif',\n",
       " 'O1',\n",
       " 7.0,\n",
       " [163.41553502074783,\n",
       "  160.7692960610484,\n",
       "  156.96997935832414,\n",
       "  131.4602280578845,\n",
       "  123.89688618227711,\n",
       "  122.80625690868368,\n",
       "  119.65656297701834,\n",
       "  112.0799492545029,\n",
       "  100.00301501966948,\n",
       "  96.34413917134883,\n",
       "  89.3009741487078,\n",
       "  85.92282998514558,\n",
       "  82.07943833938698,\n",
       "  81.71483433698488,\n",
       "  76.40837722605214,\n",
       "  76.160671463175,\n",
       "  74.53795324059844,\n",
       "  74.12139933106285,\n",
       "  73.70398216264519,\n",
       "  72.95036716648858,\n",
       "  71.27053873424829]]"
      ]
     },
     "metadata": {},
     "execution_count": 69
    }
   ],
   "source": [
    "#AngleList_4\n",
    "AngleList[0]"
   ]
  },
  {
   "cell_type": "code",
   "execution_count": 78,
   "metadata": {},
   "outputs": [],
   "source": [
    "import csv\n",
    "\n",
    "with open('./test/cifDic.txt', 'w',newline='') as csvfile:\n",
    "    spamwriter = csv.writer(csvfile, delimiter=',')\n",
    "    for row in AngleList:\n",
    "        spamwriter.writerow(row)\n",
    "\n"
   ]
  }
 ]
}